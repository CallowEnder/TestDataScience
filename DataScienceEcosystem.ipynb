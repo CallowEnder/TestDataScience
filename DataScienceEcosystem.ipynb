{
 "cells": [
  {
   "cell_type": "markdown",
   "metadata": {},
   "source": [
    "<center>\n",
    "    <img src=\"https://cf-courses-data.s3.us.cloud-object-storage.appdomain.cloud/IBMDeveloperSkillsNetwork-DS0105EN-SkillsNetwork/labs/Module2/images/SN_web_lightmode.png\" width=\"300\" alt=\"cognitiveclass.ai logo\">\n",
    "</center>\n"
   ]
  },
  {
   "cell_type": "markdown",
   "metadata": {},
   "source": [
    "# Hands-on Lab: Create your Jupyter Notebook\n"
   ]
  },
  {
   "cell_type": "markdown",
   "metadata": {},
   "source": [
    "#### Add your code below following the instructions given in the course\n"
   ]
  },
  {
   "cell_type": "markdown",
   "metadata": {},
   "source": [
    "markdown\n",
    "# Data Science Tools and Ecosystem"
   ]
  },
  {
   "cell_type": "markdown",
   "metadata": {},
   "source": [
    "### In this notebook, Data Science Tools and Ecosystem are summarized."
   ]
  },
  {
   "cell_type": "markdown",
   "metadata": {},
   "source": [
    "### **Objectives**\n",
    " + Some popular language choices are indicated which all together cover 90% of Data Science usage today\n",
    " + Some of the most commonly used libraries are given, largely drawn from the Python and R Ecosystems\n",
    " + Three open source development environment tools are suggested (Colab Notebook is not open source) "
   ]
  },
  {
   "cell_type": "markdown",
   "metadata": {},
   "source": [
    "#### In 2025, some of the popular languages that Data Scientists use are:\n",
    "1. Python\n",
    "2. R\n",
    "5. SQL\n",
    "3. Java\n",
    "7. Julia\n",
    "6. Scala\n",
    "8. C/C++\n",
    "4. JavaScript"
   ]
  },
  {
   "cell_type": "markdown",
   "metadata": {},
   "source": [
    "#### In 2025, some of the more commonly used libraries in use by Data Scientists include:\n",
    "Python Libraries:\n",
    "1. NumPy - Numerical computing with arrays and matrices\n",
    "2. SciPy - Scientific computing and technical computing\n",
    "3. Pandas - Data manipulation and analysis\n",
    "4. MatPlotLib - Data visualization\n",
    "5. Scikit-learn - Machine learning algorithms\n",
    "6. Keras - High-level neural networks API\n",
    "7. TensorFlow - Machine learning and artificial intelligence\n",
    "8. Plotly - Interactive data visualization\n",
    "9. PyCaret - Low-code machine learning library\n",
    "    \n",
    "R Libraries:\n",
    "1. dplyr - Data manipulation\n",
    "2. ggplot2 - Data visualization\n",
    "3. mlr3 - Machine learning\n",
    "4. glmnet - Regularized regression\n",
    "5. ROCR - Model evaluation\n",
    "6. DT - Interactive data tables"
   ]
  },
  {
   "cell_type": "markdown",
   "metadata": {},
   "source": [
    "\n",
    "| Data Science Tools |\n",
    "|------------------------------------------|\n",
    "| Jupyter Notebook                         |\n",
    "| RStudio                                  |\n",
    "| VS Code with Python extensions           |"
   ]
  },
  {
   "cell_type": "markdown",
   "metadata": {},
   "source": [
    "### Below are a few examples of evaluating arithmetic expressions in Python"
   ]
  },
  {
   "cell_type": "code",
   "execution_count": 2,
   "metadata": {},
   "outputs": [
    {
     "data": {
      "text/plain": [
       "17"
      ]
     },
     "execution_count": 2,
     "metadata": {},
     "output_type": "execute_result"
    }
   ],
   "source": [
    "# This a simple arithmetic expression to mutiply then add integers:\n",
    "\n",
    "(3*4)+5\n"
   ]
  },
  {
   "cell_type": "code",
   "execution_count": 7,
   "metadata": {},
   "outputs": [
    {
     "name": "stdout",
     "output_type": "stream",
     "text": [
      "3.3333333333333335 hours\n",
      "200 mins =  3.33 hours\n"
     ]
    }
   ],
   "source": [
    "# This will convert 200 minutes to hours by diving by 60:\n",
    "print(200/60, \"hours\")\n",
    "\n",
    "def convert_mins_hours(mins: float) -> float:\n",
    "    hours = mins / 60\n",
    "    return hours\n",
    "\n",
    "mins_we_convert = 200\n",
    "hours = convert_mins_hours(mins_we_convert)\n",
    "\n",
    "print(f\"{mins_we_convert} mins = {hours: .2f} hours\")\n"
   ]
  },
  {
   "cell_type": "markdown",
   "metadata": {},
   "source": [
    "## Author\n",
    "Swierczek, Joseph"
   ]
  },
  {
   "cell_type": "markdown",
   "metadata": {},
   "source": [
    "Copyright ©2024 IBM Corporation. All rights reserved.\n"
   ]
  }
 ],
 "metadata": {
  "kernelspec": {
   "display_name": "Python [conda env:base] *",
   "language": "python",
   "name": "conda-base-py"
  },
  "language_info": {
   "codemirror_mode": {
    "name": "ipython",
    "version": 3
   },
   "file_extension": ".py",
   "mimetype": "text/x-python",
   "name": "python",
   "nbconvert_exporter": "python",
   "pygments_lexer": "ipython3",
   "version": "3.13.5"
  },
  "prev_pub_hash": "9e1985db9844176462bd1d5863048c9f3d17404bbc6a648be9084b0c42b29347"
 },
 "nbformat": 4,
 "nbformat_minor": 4
}
